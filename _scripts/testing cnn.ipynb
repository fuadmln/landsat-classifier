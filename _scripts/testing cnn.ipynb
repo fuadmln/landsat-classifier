{
  "cells": [
    {
      "cell_type": "markdown",
      "source": [
        "Script untuk melakukan testing dari model CNN terhadap Dataset\n",
        "\n",
        "\n",
        "**Metrik yang didapatkan:**\n",
        "*   Akurasi Keseluruhan\n",
        "*   Confusion Matrix\n",
        "*   Precision, Recall, dan F1-Score\n",
        "\n",
        "\n",
        "**Prasyarat:**\n",
        "*   Memiliki model hasil training CNN ( format .h5)\n",
        "*   Memiliki dataset testing (format .zip)\n",
        "*   Kedua file tersebut sudah diupload ke Google Drive\n",
        "\n",
        "\n",
        "**Cara menggunakan:**\n",
        "1. Upload script kode ini ke Google Drive, lalu buka menggunakan Google Colab\n",
        "2. Upload file model dan data testing ke direktori Google Drive yang diinginkan\n",
        "3. Ubah variabel `model_path` sesuai lokasi model\n",
        "4. Ubah variabel `gdrive_zip` sesuai lokasi file zip data test\n",
        "5. Sesuaikan nama folder dataset pada variabel `base_dir` dan `test_dir`\n",
        "6. Ubah parameter input size `img_height` `img_width` sesuai dengan model training\n",
        "7. Jalankan cell satu persatu\n",
        "\n",
        "\n",
        "\n",
        "\n",
        "\n",
        "\n",
        "\n",
        "\n",
        "\n",
        "\n",
        "\n"
      ],
      "metadata": {
        "id": "flhUAvSk2qeq"
      }
    },
    {
      "cell_type": "code",
      "execution_count": null,
      "metadata": {
        "id": "EuAopYHmUcen"
      },
      "outputs": [],
      "source": [
        "# menghububgkan aplikasi ke Google Drive\n",
        "from google.colab import drive\n",
        "drive.mount('/content/drive')"
      ]
    },
    {
      "cell_type": "code",
      "execution_count": null,
      "metadata": {
        "id": "qMmrAaE-U2QR"
      },
      "outputs": [],
      "source": [
        "# memuat model\n",
        "import tensorflow as tf\n",
        "from tensorflow import keras\n",
        "\n",
        "# ATUR DIREKTORI MODEL\n",
        "model_path = '/content/drive/MyDrive/Landsat/Model/ResNet50 x224.h5'\n",
        "model = keras.models.load_model(model_path)"
      ]
    },
    {
      "cell_type": "code",
      "execution_count": null,
      "metadata": {
        "id": "POwh0GHOgw_3"
      },
      "outputs": [],
      "source": [
        "# memuat dataset\n",
        "import zipfile,os,shutil\n",
        "\n",
        "# ATUR DIREKTORI DATASET\n",
        "gdrive_zip = '/content/drive/MyDrive/Landsat/Dataset/EuroSAT 6-2-2.zip'\n",
        "zip_ref = zipfile.ZipFile(gdrive_zip, 'r') # opens the zip file in read mode\n",
        "zip_ref.extractall('/tmp') # ekstrak file ke folder /tmp (direktori pada Google Colab)\n",
        "zip_ref.close()\n",
        "\n",
        "# ATUR DIREKTORI FOLDER DATA UNTUK TESTING SESUAI NAMA FOLDER\n",
        "base_dir = '/tmp/EuroSAT 6-2-2'\n",
        "test_dir = os.path.join(base_dir, 'test')"
      ]
    },
    {
      "cell_type": "code",
      "execution_count": null,
      "metadata": {
        "id": "WBgi525Khme2"
      },
      "outputs": [],
      "source": [
        "from tensorflow.keras.preprocessing.image import ImageDataGenerator\n",
        "\n",
        "# SAMAKAN INPUT SIZE MODEL TRAINING\n",
        "img_width = 224\n",
        "img_height = img_width \n",
        "\n",
        "test_datagen = ImageDataGenerator(rescale=1./255)\n",
        "\n",
        "test_generator = test_datagen.flow_from_directory(\n",
        "    test_dir,\n",
        "    target_size=(img_width, img_height),\n",
        "    batch_size=1,\n",
        "    class_mode='categorical',\n",
        "    shuffle=False)"
      ]
    },
    {
      "cell_type": "code",
      "execution_count": null,
      "metadata": {
        "id": "t-6WEOn_U7b0"
      },
      "outputs": [],
      "source": [
        "# menghitung akurasi \n",
        "result = model.evaluate(test_generator)"
      ]
    },
    {
      "cell_type": "code",
      "execution_count": null,
      "metadata": {
        "id": "u4Q9spzuuG5l"
      },
      "outputs": [],
      "source": [
        "# menghitung probabilitas\n",
        "y_predict = model.predict(test_generator)"
      ]
    },
    {
      "cell_type": "code",
      "execution_count": null,
      "metadata": {
        "id": "bhax5dJuptC4"
      },
      "outputs": [],
      "source": [
        "import sklearn\n",
        "from sklearn.metrics import confusion_matrix\n",
        "from sklearn.metrics import ConfusionMatrixDisplay\n",
        "from sklearn.metrics import classification_report\n",
        "import numpy as np\n",
        "import matplotlib.pyplot as plt\n",
        "\n",
        "true_label = test_generator.classes # mendapatkan label sebenarnya\n",
        "predicted_label = np.argmax(y_predict, axis=1) # mendapatkan label hasil klasifikasi"
      ]
    },
    {
      "cell_type": "code",
      "source": [
        "# menghitung confusion matrix\n",
        "cm = confusion_matrix(true_label, predicted_label)\n",
        "# print(cm)\n",
        "\n",
        "classes = ['anc', 'frs', 'hvg', 'hgw', 'ids', 'pst', 'pmc', 'rsd', 'rvr', 'slk']\n",
        "classes_idx = ['0', '1', '2', '3', '4', '5', '6', '7', '8', '9']\n",
        "\n",
        "# menampilkan confusion matrix\n",
        "disp = ConfusionMatrixDisplay(confusion_matrix=cm, display_labels=classes)\n",
        "disp.plot()\n",
        "plt.show()"
      ],
      "metadata": {
        "id": "Pv015Egq1-el"
      },
      "execution_count": null,
      "outputs": []
    },
    {
      "cell_type": "code",
      "source": [
        "# menampilkan metrik untuk setiap kelas\n",
        "metrics_report = classification_report(true_label, predicted_label)\n",
        "# parameter output_dict=True\n",
        "print(metrics_report)\n"
      ],
      "metadata": {
        "id": "-C-V-wvzrKRH"
      },
      "execution_count": null,
      "outputs": []
    }
  ],
  "metadata": {
    "colab": {
      "provenance": []
    },
    "gpuClass": "standard",
    "kernelspec": {
      "display_name": "Python 3",
      "name": "python3"
    },
    "language_info": {
      "name": "python"
    },
    "accelerator": "GPU"
  },
  "nbformat": 4,
  "nbformat_minor": 0
}